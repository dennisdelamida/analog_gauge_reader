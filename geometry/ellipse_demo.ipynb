{
 "cells": [
  {
   "attachments": {},
   "cell_type": "markdown",
   "id": "73697504",
   "metadata": {},
   "source": [
    "This notebook works as a visualization of the different functions defined in the file `ellipse.py`. It also works as small unit-tests, to check the functionality of these functions. "
   ]
  },
  {
   "attachments": {},
   "cell_type": "markdown",
   "id": "f34c8632",
   "metadata": {},
   "source": [
    "### Fit ellipse to points"
   ]
  },
  {
   "cell_type": "code",
   "execution_count": null,
   "id": "86ea4f2f",
   "metadata": {},
   "outputs": [],
   "source": [
    "import ellipse\n",
    "import numpy as np\n",
    "import matplotlib.pyplot as plt"
   ]
  },
  {
   "cell_type": "code",
   "execution_count": null,
   "id": "7601d8a5",
   "metadata": {},
   "outputs": [],
   "source": [
    "npts = 250\n",
    "tmin, tmax = np.pi / 6, 4 * np.pi / 3\n",
    "x0, y0 = 4, -3.5\n",
    "ap, bp = 7, 3\n",
    "phi = np.pi / 4\n",
    "# Get some points on the ellipse (no need to specify the eccentricity).\n",
    "x, y = ellipse.get_ellipse_pts((x0, y0, ap, bp, phi), npts, tmin, tmax)\n",
    "noise = 0.1\n",
    "x += noise * np.random.normal(size=npts)\n",
    "y += noise * np.random.normal(size=npts)\n",
    "\n",
    "coeffs = ellipse.fit_ellipse(x, y)\n",
    "print('Exact parameters:')\n",
    "print('x0, y0, ap, bp, phi =', x0, y0, ap, bp, phi)\n",
    "print('Fitted parameters:')\n",
    "print('a, b, c, d, e, f =', coeffs)\n",
    "x0, y0, ap, bp, phi = ellipse.cart_to_pol(coeffs)\n",
    "print('x0, y0, ap, bp, phi = ', x0, y0, ap, bp, phi)\n",
    "\n",
    "plt.plot(x, y, 'x')  # given points\n",
    "x, y = ellipse.get_ellipse_pts((x0, y0, ap, bp, phi))\n",
    "plt.plot(x, y)\n",
    "plt.show()"
   ]
  },
  {
   "attachments": {},
   "cell_type": "markdown",
   "id": "20723f46",
   "metadata": {},
   "source": [
    "### Project point to ellipse"
   ]
  },
  {
   "attachments": {},
   "cell_type": "markdown",
   "id": "66268a17",
   "metadata": {},
   "source": [
    "This is to project the OCR recognitions to the ellipse"
   ]
  },
  {
   "cell_type": "code",
   "execution_count": null,
   "id": "54360cdb",
   "metadata": {},
   "outputs": [],
   "source": [
    "x0, y0 = 0, 0\n",
    "ap, bp = 7, 4\n",
    "phi = 0\n",
    "# Get some points on the ellipse (no need to specify the eccentricity).\n",
    "x_e, y_e = ellipse.get_ellipse_pts((x0, y0, ap, bp, phi))\n",
    "plt.plot(x_e, y_e)\n",
    "plt.scatter(x0, y0)\n",
    "\n",
    "# point to project on to the ellipse\n",
    "x = 5\n",
    "y = 10\n",
    "point = np.array([x, y])\n",
    "plt.scatter(x, y)\n",
    "\n",
    "projected_point = ellipse.project_point(point, (x0, y0, ap, bp, phi))\n",
    "\n",
    "x_proj, y_proj = projected_point\n",
    "plt.scatter(x_proj, y_proj)\n",
    "plt.scatter(x_proj, y_proj, marker = 'x')\n",
    "\n",
    "plt.show()"
   ]
  },
  {
   "attachments": {},
   "cell_type": "markdown",
   "id": "7b1b730e",
   "metadata": {},
   "source": [
    "### Intersect line and ellipse"
   ]
  },
  {
   "attachments": {},
   "cell_type": "markdown",
   "id": "faa50404",
   "metadata": {},
   "source": [
    "This is to calculate the intersection of the needle and the ellipse."
   ]
  },
  {
   "cell_type": "code",
   "execution_count": null,
   "id": "b29f4830",
   "metadata": {},
   "outputs": [],
   "source": [
    "line_coeffs = np.array([1,1])\n",
    "line = np.poly1d(line_coeffs)\n",
    "x_start, x_end = 0.1, 2\n",
    "x = np.array([x_start, x_end])\n",
    "\n",
    "x0, y0 = 1, 1\n",
    "ap, bp = 1, 2\n",
    "phi = 0\n",
    "# Get some points on the ellipse (no need to specify the eccentricity).\n",
    "x_e, y_e = ellipse.get_ellipse_pts((x0, y0, ap, bp, phi))\n",
    "plt.plot(x_e, y_e)\n",
    "plt.plot(x, line(x), color='orange')\n",
    "\n",
    "intersection_point = ellipse.get_line_ellipse_point(line_coeffs, x, (x0, y0, ap, bp, phi))\n",
    "print(intersection_point)\n",
    "x = intersection_point[0]\n",
    "y = intersection_point[1]\n",
    "\n",
    "plt.scatter(x, y, marker = 'o', c='red', s=100)\n",
    "\n",
    "plt.show()"
   ]
  },
  {
   "attachments": {},
   "cell_type": "markdown",
   "id": "1050c260",
   "metadata": {},
   "source": [
    "### Get middle between two points on ellipse"
   ]
  },
  {
   "attachments": {},
   "cell_type": "markdown",
   "id": "17f5aab6",
   "metadata": {},
   "source": [
    "This is to calculate the point between the start and end point."
   ]
  },
  {
   "cell_type": "code",
   "execution_count": null,
   "id": "56cfb63f",
   "metadata": {},
   "outputs": [],
   "source": [
    "plt.figure(figsize=(5,5))\n",
    "\n",
    "start_point = np.array((-0.5,-2))\n",
    "end_point = np.array((1.5,-1))\n",
    "\n",
    "plt.scatter(start_point[0], start_point[1], marker = 'o', c='blue', s=100)\n",
    "plt.scatter(end_point[0], end_point[1], marker = 'o', c='green', s=100)\n",
    "\n",
    "x0, y0 = 1, 1\n",
    "plt.scatter(x0, y0, marker = 'o', c='black', s=100)\n",
    "ap, bp = 1, 2\n",
    "phi = np.pi*5/4\n",
    "ellipse_params = (x0, y0, ap, bp, phi)\n",
    "# Get some points on the ellipse (no need to specify the eccentricity).\n",
    "x_e, y_e = ellipse.get_ellipse_pts(ellipse_params)\n",
    "plt.plot(x_e, y_e)\n",
    "\n",
    "theta_start = ellipse.get_polar_angle(start_point, ellipse_params)\n",
    "theta_end = ellipse.get_polar_angle(end_point, ellipse_params)\n",
    "\n",
    "start_proj = ellipse.get_point_from_angle(theta_start, ellipse_params)\n",
    "end_proj = ellipse.get_point_from_angle(theta_end, ellipse_params)\n",
    "plt.scatter(start_proj[0], start_proj[1], marker = 'o', c='blue', s=100)\n",
    "plt.scatter(end_proj[0], end_proj[1], marker = 'o', c='green', s=100)\n",
    "\n",
    "zero_point = ellipse.get_point_from_angle(0, ellipse_params)\n",
    "plt.scatter(zero_point[0], zero_point[1], marker = 'o', c='red', s=100)\n",
    "\n",
    "theta_middle = ellipse.get_theta_middle(theta_start, theta_end)\n",
    "middle = ellipse.get_point_from_angle(theta_middle, ellipse_params)\n",
    "\n",
    "plt.scatter(middle[0], middle[1], marker = 'o', c='violet', s=100)\n",
    "    \n",
    "\n",
    "plt.show()"
   ]
  },
  {
   "cell_type": "code",
   "execution_count": null,
   "id": "dbba4910",
   "metadata": {},
   "outputs": [],
   "source": []
  }
 ],
 "metadata": {
  "kernelspec": {
   "display_name": "Python 3 (ipykernel)",
   "language": "python",
   "name": "python3"
  },
  "language_info": {
   "codemirror_mode": {
    "name": "ipython",
    "version": 3
   },
   "file_extension": ".py",
   "mimetype": "text/x-python",
   "name": "python",
   "nbconvert_exporter": "python",
   "pygments_lexer": "ipython3",
   "version": "3.8.16"
  }
 },
 "nbformat": 4,
 "nbformat_minor": 5
}
