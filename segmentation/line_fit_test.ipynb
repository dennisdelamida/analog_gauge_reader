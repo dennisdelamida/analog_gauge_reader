{
 "cells": [
  {
   "cell_type": "code",
   "execution_count": null,
   "metadata": {},
   "outputs": [],
   "source": [
    "import numpy as np\n",
    "from scipy import odr\n",
    "import matplotlib.pyplot as plt"
   ]
  },
  {
   "cell_type": "code",
   "execution_count": null,
   "metadata": {},
   "outputs": [],
   "source": [
    "def linear(B, x):\n",
    "    '''Linear function y = m*x + b'''\n",
    "    # B is a vector of the parameters.\n",
    "    # x is an array of the current x values.\n",
    "    # x is in the same format as the x passed to Data or RealData.\n",
    "    #\n",
    "    # Return an array in the same format as y passed to Data or RealData.\n",
    "    return B[0]*x + B[1]"
   ]
  },
  {
   "cell_type": "code",
   "execution_count": null,
   "metadata": {},
   "outputs": [],
   "source": [
    "B = [10000,0]\n",
    "n_points = 100\n",
    "\n",
    "x_meas =  np.random.rand(n_points)\n",
    "y_meas = np.random.rand(n_points) * 100\n",
    "\n",
    "plt.figure()\n",
    "plt.scatter(x_meas,y_meas, c='red',s=100)\n",
    "plt.xlim(-1, 2)\n",
    "plt.ylim(0, 100)  \n",
    "plt.plot()"
   ]
  },
  {
   "cell_type": "code",
   "execution_count": null,
   "metadata": {},
   "outputs": [],
   "source": [
    "B_pred = np.polyfit(x_meas,y_meas, 1)\n",
    "x_pred_line= np.linspace(-5,5)\n",
    "y_pred_line = linear(B_pred, x_pred_line)\n",
    "plt.figure()\n",
    "plt.scatter(x_meas,y_meas, c='red',s=100)\n",
    "plt.plot(x_pred_line, y_pred_line, c= 'orange')\n",
    "plt.xlim(-1, 2) \n",
    "plt.ylim(0, 100)\n",
    "plt.plot()"
   ]
  },
  {
   "cell_type": "code",
   "execution_count": null,
   "metadata": {},
   "outputs": [],
   "source": [
    "odr_model = odr.Model(linear)\n",
    "data = odr.Data(x_meas, y_meas)\n",
    "ordinal_distance_reg = odr.ODR(data, odr_model,\n",
    "                               beta0=[2, 1.])\n",
    "out = ordinal_distance_reg.run()\n",
    "beta = out.beta\n",
    "\n",
    "x_pred_line= np.linspace(-5,5)\n",
    "y_pred_line = linear(beta, x_pred_line)\n",
    "plt.figure()\n",
    "plt.scatter(x_meas,y_meas, c='red',s=100)\n",
    "plt.plot(x_pred_line, y_pred_line, c= 'orange')\n",
    "plt.xlim(-1, 2)  # Set the x-axis range from 0 to 6\n",
    "plt.ylim(0, 100)  # Set the y-axis range from 0 to 12\n",
    "\n",
    "plt.plot()\n",
    "\n"
   ]
  },
  {
   "cell_type": "code",
   "execution_count": null,
   "metadata": {},
   "outputs": [],
   "source": []
  }
 ],
 "metadata": {
  "kernelspec": {
   "display_name": "gauge_detection",
   "language": "python",
   "name": "python3"
  },
  "language_info": {
   "codemirror_mode": {
    "name": "ipython",
    "version": 3
   },
   "file_extension": ".py",
   "mimetype": "text/x-python",
   "name": "python",
   "nbconvert_exporter": "python",
   "pygments_lexer": "ipython3",
   "version": "3.8.16"
  },
  "orig_nbformat": 4
 },
 "nbformat": 4,
 "nbformat_minor": 2
}
